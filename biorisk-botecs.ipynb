{
 "cells": [
  {
   "cell_type": "code",
   "execution_count": null,
   "metadata": {},
   "outputs": [],
   "source": [
    "import warnings\n",
    "warnings.filterwarnings('ignore')\n",
    "from helpers import *\n",
    "import numpy as np\n",
    "import plotly.express as px"
   ]
  },
  {
   "attachments": {},
   "cell_type": "markdown",
   "metadata": {},
   "source": [
    "# Estimating Pandemic Risk\n",
    "\n",
    "Here, I estimate the expected number of deaths this century from the following types of pandemics:\n",
    "1. Natural pandemics (based on estimates from [Marani et al. 2021](https://doi.org/10.1073/pnas.2105482118))\n",
    "2. Accidental pandemics (based on estimates from [Klotz 2021](https://armscontrolcenter.org/wp-content/uploads/2017/04/LWC-paper-final-version-for-CACNP-website.pdf))\n",
    "3. Deliberate pandemics (based on estimates from [Esvelt 2022](https://dam.gcsp.ch/files/doc/gcsp-geneva-paper-29-22?_gl=1*ieur8b*_ga*MTk1NzA0MTU3My4xNjk2NzcyODA0*_ga_Z66DSTVXTJ*MTY5Njc3MjgwNC4xLjAuMTY5Njc3MjgwNi41OC4wLjA.))"
   ]
  },
  {
   "cell_type": "code",
   "execution_count": null,
   "metadata": {},
   "outputs": [],
   "source": [
    "# Define vars\n",
    "params = Params()"
   ]
  },
  {
   "attachments": {},
   "cell_type": "markdown",
   "metadata": {},
   "source": [
    "I will estimate the expected number of deaths this century i.e. from 2023 to 2100. For simplicity, I will assume a fixed population of 9.2 billion people over this time period (based on [UN population projections](https://www.worldometers.info/world-population/world-population-projections/)):\n",
    "\n",
    "$\n",
    "\\text{Average population} = \\frac{\\text{Starting population} + \\text{Population in 2100}}{2} = \\frac{8.0 \\text{ billion} + 10.3 \\text{ billion}}{2} = 9.2 \\text{ billion}\n",
    "$\n",
    "\n",
    "For the estimates, I will be using Monte Carlo simulations. These parameters which are used for multiple of the estimates are shown below:"
   ]
  },
  {
   "cell_type": "code",
   "execution_count": null,
   "metadata": {},
   "outputs": [],
   "source": [
    "params.print_category('Global')"
   ]
  },
  {
   "attachments": {},
   "cell_type": "markdown",
   "metadata": {},
   "source": [
    "## 1. Estimating Natural Pandemic Risk\n",
    "[Marani et al. 2021](https://doi.org/10.1073/pnas.2105482118) assembled a dataset of epidemics that have occured since 1500. The dataset includes the start and end dates of each epidemic and the number of deaths. The dataset only contains epidemics were not currently active (e.g., AIDS/HIV, malaria, and COVID-19 were excluded), and epidemics that were ended by the introduction of vaccines or effective treatments were excluded.\n",
    "\n",
    "The dataset is visualised below:"
   ]
  },
  {
   "cell_type": "code",
   "execution_count": null,
   "metadata": {},
   "outputs": [],
   "source": [
    "marani_xls = params.Natural.dataset.val\n",
    "marani_df, disease_totals = load_and_preprocess_natural_data(marani_xls)\n",
    "color_map = generate_color_map(disease_totals)\n",
    "fig = plot_disease_timeline(marani_df, disease_totals, color_map)"
   ]
  },
  {
   "attachments": {},
   "cell_type": "markdown",
   "metadata": {},
   "source": [
    "Marani et al. showed that the when the epidemic intesity, that is the number of deaths per year, is plotted against the exceedance probability, which is the probability that the epidemic intensity will be exceeded in a given year, the data is well described by a generalized Pareto distribution (GPD)."
   ]
  },
  {
   "cell_type": "code",
   "execution_count": null,
   "metadata": {},
   "outputs": [],
   "source": [
    "fig = plot_intensity_exceedance_probability(marani_df)"
   ]
  },
  {
   "attachments": {},
   "cell_type": "markdown",
   "metadata": {},
   "source": [
    "## 2. Estimating Accidental Pandemic Risk\n",
    "\n",
    "We'll be examining the potential risk of a pandemic from the accidental release of viruses from research facilities. This analysis will involve three main sections:\n",
    "\n",
    "1. Probability a single facility in a single year seeds a pandemic\n",
    "2. Expected number of accidental pandemics this century\n",
    "3. Expected number of deaths from accidental pandemics this century\n",
    "\n",
    "Note, limitations of this analysis include:\n",
    "- The results are highly dependent on the probabilities of release computed in [Klotz 2020](https://armscontrolcenter.org/wp-content/uploads/2020/03/Quantifying-the-risk-9-17-Supplementary-material-at-end.pdf)\n",
    "- We are only considering the risk from highly pathogenic avian influenza (HPAI) viruses, and not other types of viruses\n",
    "- We are only considering the risk from research facilities, and not other sources of accidental release\n",
    "- We are assuming that the number of facilities conducting HPAI research will remain constant over the this century\n"
   ]
  },
  {
   "cell_type": "code",
   "execution_count": null,
   "metadata": {},
   "outputs": [],
   "source": [
    "params.print_category('Accidental')"
   ]
  },
  {
   "cell_type": "markdown",
   "metadata": {},
   "source": [
    "### 2.1 Probability a single facility in a single year seeds a pandemic\n",
    "\n",
    "The probability that a single facility seeds a pandemic in a single year is given by:\n",
    "\n",
    "$\n",
    "P_{\\text{single_pandemic}} = P_{\\text{release}} \\times P_{\\text{seeds_pandemic}}\n",
    "$\n",
    "\n",
    "Where:\n",
    "- $P_{\\text{release}}$ is the probability of community release from a single facility in a single year.\n",
    "- $P_{\\text{seeds_pandemic}}$ is the probability that a virus release seeds a pandemic. Since $P_{\\text{seeds_pandemic}}$ is given as a range, we will sample from a uniform distribution between 0.05 and 0.4."
   ]
  },
  {
   "cell_type": "code",
   "execution_count": null,
   "metadata": {},
   "outputs": [],
   "source": [
    "P_seeds_pandemic_min = params.Accidental.P_seeds_pandemic_min.val\n",
    "P_seeds_pandemic_max = params.Accidental.P_seeds_pandemic_max.val\n",
    "num_simulations = params.Global.num_simulations.val\n",
    "P_release = params.Accidental.P_release.val\n",
    "accidental_colour = params.Accidental.colour.val\n",
    "\n",
    "P_seeds_pandemic = np.random.uniform(P_seeds_pandemic_min, P_seeds_pandemic_max, num_simulations)\n",
    "P_single_pandemic = P_release * P_seeds_pandemic\n",
    "\n",
    "# Plot the distribution of P_single_pandemic\n",
    "fig = plot_P_single_pandemic_hist(P_single_pandemic, accidental_colour)"
   ]
  },
  {
   "attachments": {},
   "cell_type": "markdown",
   "metadata": {},
   "source": [
    "### 2.2. Expected number of accidental pandemics this century\n",
    "\n",
    "The expected number of pandemics seeded by any facility in a $num\\_years$ is given by:\n",
    "\n",
    "$\n",
    "E[\\text{#Pandemics}] = P_{\\text{single_pandemic}} \\times \\text{num_years} \\times \\text{num_facilities}\n",
    "$\n",
    "\n",
    "Where:\n",
    "- $\\text{num_years}$ is the number of years in the simulation (typically set to 100 for a century).\n",
    "- $\\text{num_facilities}$ is the number of facilities in the world.\n",
    "- $P_{\\text{single_pandemic}}$ is the probability that a single facility seeds a pandemic in a single year."
   ]
  },
  {
   "cell_type": "code",
   "execution_count": null,
   "metadata": {},
   "outputs": [],
   "source": [
    "num_years = params.Global.num_years.val\n",
    "num_facilities = params.Accidental.num_facilities.val\n",
    "\n",
    "E_accidental_pandemics = P_single_pandemic * num_years * num_facilities\n",
    "\n",
    "# Plot the distribution of E_accidental_pandemics\n",
    "fig = plot_E_accidental_pandemics_hist(E_accidental_pandemics, accidental_colour)"
   ]
  },
  {
   "attachments": {},
   "cell_type": "markdown",
   "metadata": {},
   "source": [
    "### 2.3. Expected number of deaths from accidental pandemics this century\n",
    "\n",
    "For each pandemic, the number of deaths is calculated as:\n",
    "\n",
    "$\n",
    "E[\\text{#Deaths} ]= E[\\text{#Pandemics}] \\times \\text{Population} \\times \\text{Infection Rate} \\times \\text{CFR}\n",
    "$\n",
    "\n",
    "Where:\n",
    "- $\\text{Population}$ is the world population at the time of the pandemic.\n",
    "- $\\text{Infection Rate}$ is the infection rate of the pandemic.\n",
    "- $\\text{CFR}$ is the case fatality rate of the pandemic."
   ]
  },
  {
   "cell_type": "code",
   "execution_count": null,
   "metadata": {},
   "outputs": [],
   "source": [
    "population = params.Global.population.val\n",
    "infection_rate = params.Accidental.infection_rate.val\n",
    "fatality_rate = params.Accidental.fatality_rate.val\n",
    "\n",
    "E_accidental_deaths = E_accidental_pandemics * population * infection_rate * fatality_rate\n",
    "\n",
    "# Plot the distribution of E_accidental_deaths\n",
    "fig = plot_E_accidental_deaths_hist(E_accidental_deaths, accidental_colour)"
   ]
  },
  {
   "attachments": {},
   "cell_type": "markdown",
   "metadata": {},
   "source": [
    "## 3. Estimating Deliberate Pandemic Risk"
   ]
  },
  {
   "cell_type": "code",
   "execution_count": null,
   "metadata": {},
   "outputs": [],
   "source": [
    "params.print_category('Deliberate')"
   ]
  },
  {
   "cell_type": "code",
   "execution_count": null,
   "metadata": {},
   "outputs": [],
   "source": [
    "gtd_xls = params.Deliberate.dataset.val\n",
    "deaths_per_attack = params.Deliberate.deaths_per_attack.val\n",
    "population_us_1995 = params.Deliberate.population_us_1995.val\n",
    "num_indv_capability = params.Deliberate.num_indv_capability.val\n",
    "deliberate_multiplier_max = params.Deliberate.deliberate_multiplier_max.val\n",
    "deliberate_colour = params.Deliberate.colour.val\n",
    "\n",
    "# Load and preprocess data\n",
    "gtd_df = load_and_preprocess_deliberate_data(gtd_xls, deaths_per_attack)\n",
    "num_events = len(gtd_df)\n",
    "frac_invd_intent = num_events / population_us_1995\n",
    "\n",
    "# Plot \n",
    "fig = plot_deaths_per_attack_scatter(gtd_df, deaths_per_attack, num_events, frac_invd_intent)"
   ]
  },
  {
   "cell_type": "code",
   "execution_count": null,
   "metadata": {},
   "outputs": [],
   "source": [
    "total_individuals = calculate_individual_capability(params)\n",
    "fig = plot_capability_growth(params, deliberate_colour)"
   ]
  },
  {
   "cell_type": "code",
   "execution_count": null,
   "metadata": {},
   "outputs": [],
   "source": [
    "# Expected number of individuals with the intent to cause mass harm this century\n",
    "num_indv_capability = total_individuals[-1]\n",
    "E_num_indv_capability_per_century = num_indv_capability * frac_invd_intent\n",
    "deliberate_multiplier = np.random.uniform(1, deliberate_multiplier_max, num_simulations)\n",
    "E_deliberate_deaths = E_num_indv_capability_per_century * population * infection_rate * fatality_rate * deliberate_multiplier\n",
    "\n",
    "# Plot the distribution of E_deliberate_deaths\n",
    "fig = plot_E_deliberate_deaths_hist(E_deliberate_deaths, deliberate_colour)"
   ]
  }
 ],
 "metadata": {
  "kernelspec": {
   "display_name": "Python 3",
   "language": "python",
   "name": "python3"
  },
  "language_info": {
   "codemirror_mode": {
    "name": "ipython",
    "version": 3
   },
   "file_extension": ".py",
   "mimetype": "text/x-python",
   "name": "python",
   "nbconvert_exporter": "python",
   "pygments_lexer": "ipython3",
   "version": "3.7.6"
  },
  "vscode": {
   "interpreter": {
    "hash": "4955dedc2d00847a5d8ce35d0b08f51a09c63081b880cfd982b13da27f1123ca"
   }
  }
 },
 "nbformat": 4,
 "nbformat_minor": 2
}
