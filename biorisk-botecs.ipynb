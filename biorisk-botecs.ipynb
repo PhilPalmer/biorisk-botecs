{
 "cells": [
  {
   "cell_type": "markdown",
   "metadata": {},
   "source": [
    "# Estimating Pandemic Risk\n",
    "\n",
    "Here, I will compare different estimates for the following types of pandemics:\n",
    "1. Natural pandemics (based on estimates from [Marani et al. 2019](https://doi.org/10.1073/pnas.2105482118))\n",
    "2. Accidental pandemics (based on estimates from [Klotz 2021](https://armscontrolcenter.org/wp-content/uploads/2017/04/LWC-paper-final-version-for-CACNP-website.pdf))\n",
    "3. Deliberate pandemics"
   ]
  },
  {
   "cell_type": "code",
   "execution_count": 1,
   "metadata": {},
   "outputs": [
    {
     "name": "stderr",
     "output_type": "stream",
     "text": [
      "In /home/phil/anaconda3/lib/python3.7/site-packages/matplotlib/mpl-data/stylelib/_classic_test.mplstyle: \n",
      "The text.latex.preview rcparam was deprecated in Matplotlib 3.3 and will be removed two minor releases later.\n",
      "In /home/phil/anaconda3/lib/python3.7/site-packages/matplotlib/mpl-data/stylelib/_classic_test.mplstyle: \n",
      "The mathtext.fallback_to_cm rcparam was deprecated in Matplotlib 3.3 and will be removed two minor releases later.\n",
      "In /home/phil/anaconda3/lib/python3.7/site-packages/matplotlib/mpl-data/stylelib/_classic_test.mplstyle: Support for setting the 'mathtext.fallback_to_cm' rcParam is deprecated since 3.3 and will be removed two minor releases later; use 'mathtext.fallback : 'cm' instead.\n",
      "In /home/phil/anaconda3/lib/python3.7/site-packages/matplotlib/mpl-data/stylelib/_classic_test.mplstyle: \n",
      "The validate_bool_maybe_none function was deprecated in Matplotlib 3.3 and will be removed two minor releases later.\n",
      "In /home/phil/anaconda3/lib/python3.7/site-packages/matplotlib/mpl-data/stylelib/_classic_test.mplstyle: \n",
      "The savefig.jpeg_quality rcparam was deprecated in Matplotlib 3.3 and will be removed two minor releases later.\n",
      "In /home/phil/anaconda3/lib/python3.7/site-packages/matplotlib/mpl-data/stylelib/_classic_test.mplstyle: \n",
      "The keymap.all_axes rcparam was deprecated in Matplotlib 3.3 and will be removed two minor releases later.\n",
      "In /home/phil/anaconda3/lib/python3.7/site-packages/matplotlib/mpl-data/stylelib/_classic_test.mplstyle: \n",
      "The animation.avconv_path rcparam was deprecated in Matplotlib 3.3 and will be removed two minor releases later.\n",
      "In /home/phil/anaconda3/lib/python3.7/site-packages/matplotlib/mpl-data/stylelib/_classic_test.mplstyle: \n",
      "The animation.avconv_args rcparam was deprecated in Matplotlib 3.3 and will be removed two minor releases later.\n"
     ]
    }
   ],
   "source": [
    "from ipywidgets import widgets, HBox, VBox, HTML, Layout, interactive, interactive_output, Output\n",
    "from IPython.display import clear_output\n",
    "import numpy as np\n",
    "import plotly.express as px\n",
    "import plotly.graph_objects as go\n",
    "import plotly.io as pio\n",
    "\n",
    "pio.templates.default = 'plotly_white'\n",
    "\n",
    "#################################\n",
    "# Define parameters and functions\n",
    "#################################\n",
    "\n",
    "# Global variables\n",
    "num_years = 100\n",
    "population = 9.2e9\n",
    "num_simulations = 10000\n",
    "# Accidental\n",
    "P_release = 0.00246\n",
    "P_seeds_pandemic_min = 0.05\n",
    "P_seeds_pandemic_max = 0.4\n",
    "num_facilities = 14\n",
    "fatality_rate = 0.025\n",
    "infection_rate = 0.15\n",
    "# Other\n",
    "COLORS = {\n",
    "    \"accidental\": \"#1f77b4\",  # blue\n",
    "    \"natural\": \"#ff7f0e\",     # orange\n",
    "    \"deliberate\": \"#2ca02c\"   # green\n",
    "}"
   ]
  },
  {
   "cell_type": "code",
   "execution_count": 2,
   "metadata": {},
   "outputs": [],
   "source": [
    "# Source link\n",
    "klotz_2021 = \"https://armscontrolcenter.org/wp-content/uploads/2017/04/LWC-paper-final-version-for-CACNP-website.pdf\"\n",
    "\n",
    "# Define a consistent layout for the description widgets\n",
    "desc_layout = widgets.Layout(width='600px')\n",
    "\n",
    "# Create HTML widgets for descriptions with links\n",
    "# Global variables\n",
    "num_years_desc = HTML(value=\"Number of years\", layout=desc_layout)\n",
    "population_desc = HTML(value=\"World population\", layout=desc_layout)\n",
    "num_simulations_desc = HTML(value=\"Number of simulations\", layout=desc_layout)\n",
    "# Accidental release\n",
    "P_release_desc = HTML(\n",
    "    value=f\"Probability of community release from a single facility (with one or many labs) in a single year (default value: estimated in <a href='{klotz_2021}'>Klotz 2021</a>):\", \n",
    "    layout=desc_layout\n",
    ")\n",
    "P_seeds_pandemic_min_desc = HTML(\n",
    "    value=f\"Probability Virus Seeds Pandemic (Min) (default value: estimated in <a href='{klotz_2021}'>Klotz 2021</a>):\", \n",
    "    layout=desc_layout\n",
    ")\n",
    "P_seeds_pandemic_max_desc = HTML(\n",
    "    value=f\"Probability Virus Seeds Pandemic (Max) (default value: estimated in <a href='{klotz_2021}'>Klotz 2021</a>):\", \n",
    "    layout=desc_layout\n",
    ")\n",
    "num_facilities_desc = HTML(\n",
    "    value=f\"Number of Facilities (default value: the number of HPAI facilities as stated in <a href='{klotz_2021}'>Klotz 2021</a>):\", \n",
    "    layout=desc_layout\n",
    ")\n",
    "fatality_rate_desc = HTML(\n",
    "    value=f\"Case fatality rate (default value: 1918 influenza CFR, <a href='{klotz_2021}'>see Klotz 2021</a>):\", \n",
    "    layout=desc_layout\n",
    ")\n",
    "infection_rate_desc = HTML(\n",
    "    value=f\"Fraction of Population Infected (default value: % infected in typical flu season, <a href='{klotz_2021}'>see Klotz 2021</a>):\", \n",
    "    layout=desc_layout\n",
    ")\n",
    "\n",
    "# Create text widgets without descriptions \n",
    "num_years_widget = widgets.IntText(value=num_years, layout=widgets.Layout(width='200px'))\n",
    "population_widget = widgets.FloatText(value=population, layout=widgets.Layout(width='200px'))\n",
    "num_simulations_widget = widgets.FloatLogSlider(value=num_simulations, base=10, min=2, max=6, step=1, layout=widgets.Layout(width='400px'))\n",
    "P_release_widget = widgets.FloatText(value=P_release, layout=widgets.Layout(width='200px'))\n",
    "P_seeds_pandemic_min_widget = widgets.FloatText(value=P_seeds_pandemic_min, layout=widgets.Layout(width='200px'))\n",
    "P_seeds_pandemic_max_widget = widgets.FloatText(value=P_seeds_pandemic_max, layout=widgets.Layout(width='200px'))\n",
    "num_facilities_widget = widgets.IntText(value=num_facilities, layout=widgets.Layout(width='200px'))\n",
    "fatality_rate_widget = widgets.FloatText(value=fatality_rate, layout=widgets.Layout(width='200px'))\n",
    "infection_rate_widget = widgets.FloatText(value=infection_rate, layout=widgets.Layout(width='200px'))\n",
    "\n",
    "# Define the layout for the subtitles\n",
    "subtitle_layout = Layout(padding='0px 0px 0px 0px', font_size='1.2em')\n",
    "global_variables_subtitle = HTML(value=\"<strong>Global Variables</strong>\")\n",
    "accidental_release_subtitle = HTML(value=\"<strong>Accidental Release Variables</strong>\")\n",
    "\n",
    "# Group the widgets\n",
    "global_variables_widgets = VBox([\n",
    "    global_variables_subtitle,\n",
    "    HBox([num_years_desc, num_years_widget]),\n",
    "    HBox([population_desc, population_widget]),\n",
    "    HBox([num_simulations_desc, num_simulations_widget]),\n",
    "])\n",
    "\n",
    "accidental_release_widgets = VBox([\n",
    "    accidental_release_subtitle,\n",
    "    HBox([P_release_desc, P_release_widget]),\n",
    "    HBox([P_seeds_pandemic_min_desc, P_seeds_pandemic_min_widget]),\n",
    "    HBox([P_seeds_pandemic_max_desc, P_seeds_pandemic_max_widget]),\n",
    "    HBox([num_facilities_desc, num_facilities_widget]),\n",
    "    HBox([fatality_rate_desc, fatality_rate_widget]),\n",
    "    HBox([infection_rate_desc, infection_rate_widget]),\n",
    "])"
   ]
  },
  {
   "cell_type": "markdown",
   "metadata": {},
   "source": [
    "By default, I will estimate the total expected number of deaths from each type of pandemic over the next century. For simplicity, I will assume a fixed population of 9.2 billion people over the next century (based on [UN population projections](https://www.worldometers.info/world-population/world-population-projections/)):\n",
    "\n",
    "$\n",
    "\\text{Average population} = \\frac{\\text{Starting population} + \\text{Population after 100 years}}{2} = \\frac{8.0 \\text{ billion} + 10.3 \\text{ billion}}{2} = 9.2 \\text{ billion}\n",
    "$\n",
    "\n",
    "I will be using Monte Carlo simulations to estimate the expected number of deaths from each type of pandemic. All of these paramters, such as the time horizon, population size, and number of simulations, can be changed below."
   ]
  },
  {
   "cell_type": "code",
   "execution_count": 3,
   "metadata": {},
   "outputs": [
    {
     "data": {
      "application/vnd.jupyter.widget-view+json": {
       "model_id": "e0a0551f1db24ad4aae576de76b160de",
       "version_major": 2,
       "version_minor": 0
      },
      "text/plain": [
       "VBox(children=(HTML(value='<strong>Global Variables</strong>'), HBox(children=(HTML(value='Number of years', l…"
      ]
     },
     "metadata": {},
     "output_type": "display_data"
    }
   ],
   "source": [
    "display(global_variables_widgets)"
   ]
  },
  {
   "cell_type": "markdown",
   "metadata": {},
   "source": [
    "## 1. Understanding Pandemic Risk from Accidental Release\n",
    "\n",
    "We'll be examining the potential risk of a pandemic from the accidental release of viruses from research facilities. This analysis will involve three main sections:\n",
    "\n",
    "1. Probability a Single Facility in a Single Year Seeds a Pandemic\n",
    "2. Number of Pandemics Seeded by Any matHPAI Facility\n",
    "3. Worldwide Fatalities from the Pandemic\n",
    "\n",
    "Note, limitations of this analysis include:\n",
    "- The results are highly dependent on the probabilities of release computed in [Klotz 2020](https://armscontrolcenter.org/wp-content/uploads/2020/03/Quantifying-the-risk-9-17-Supplementary-material-at-end.pdf)\n",
    "- We are only considering the risk from highly pathogenic avian influenza (HPAI) viruses, and not other types of viruses\n",
    "- We are only considering the risk from research facilities, and not other sources of accidental release\n",
    "- We are assuming that the number of facilities conducting HPAI research will remain constant over the next century\n"
   ]
  },
  {
   "cell_type": "code",
   "execution_count": 4,
   "metadata": {},
   "outputs": [
    {
     "data": {
      "application/vnd.jupyter.widget-view+json": {
       "model_id": "89bed98b07d14babbd5662b623cd9148",
       "version_major": 2,
       "version_minor": 0
      },
      "text/plain": [
       "VBox(children=(HTML(value='<strong>Accidental Release Variables</strong>'), HBox(children=(HTML(value=\"Probabi…"
      ]
     },
     "metadata": {},
     "output_type": "display_data"
    }
   ],
   "source": [
    "display(accidental_release_widgets)\n",
    "\n",
    "def compute_accidental(P_release, P_seeds_pandemic_min, P_seeds_pandemic_max, num_simulations, population, infection_rate, fatality_rate, num_facilities, num_years):\n",
    "    num_simulations = int(num_simulations)\n",
    "    \n",
    "    # Compute P_seeds_pandemic_samples and P_single_pandemic_samples\n",
    "    P_seeds_pandemic_samples = np.random.uniform(P_seeds_pandemic_min, P_seeds_pandemic_max, num_simulations)\n",
    "    P_single_pandemic_samples = P_release * P_seeds_pandemic_samples\n",
    "\n",
    "    # Compute total_pandemics_per_simulation\n",
    "    total_pandemics_per_simulation = P_single_pandemic_samples * num_years * num_facilities\n",
    "    \n",
    "    # Compute fatalities_samples\n",
    "    fatalities_samples = total_pandemics_per_simulation * population * infection_rate * fatality_rate\n",
    "    \n",
    "    return P_seeds_pandemic_samples, P_single_pandemic_samples, total_pandemics_per_simulation, fatalities_samples\n",
    "\n",
    "\n",
    "# Create individual Output widgets for each plot\n",
    "output_P_single_pandemic = Output()\n",
    "output_P_any_facility = Output()\n",
    "output_expected_fatalities = Output()\n",
    "\n",
    "# Modify the plotting functions to render within these output widgets\n",
    "def plot_P_single_pandemic(P_single_pandemic_samples):\n",
    "    with output_P_single_pandemic:\n",
    "        clear_output(wait=True)  # Clear the current content\n",
    "        fig = px.histogram(\n",
    "            P_single_pandemic_samples, \n",
    "            nbins=50, \n",
    "            labels={'value': 'P(single_pandemic)'}, \n",
    "            title=\"Distribution of P(single_pandemic)\", \n",
    "            color_discrete_sequence=[COLORS[\"accidental\"]],\n",
    "            histnorm='probability'\n",
    "        )\n",
    "        fig.show()\n",
    "\n",
    "def plot_P_any_facility(P_any_facility_samples):\n",
    "    with output_P_any_facility:\n",
    "        clear_output(wait=True)  # Clear the current content\n",
    "        fig = px.histogram(\n",
    "            P_any_facility_samples, \n",
    "            nbins=50, \n",
    "            labels={'value': 'Number of Pandemics'}, \n",
    "            title=\"Distribution of Number of Pandemics\", \n",
    "            color_discrete_sequence=[COLORS[\"accidental\"]],\n",
    "            histnorm='probability'\n",
    "        )\n",
    "        fig.show()\n",
    "\n",
    "def plot_expected_fatalities(fatalities_samples):\n",
    "    with output_expected_fatalities:\n",
    "        clear_output(wait=True)  # Clear the current content\n",
    "        fig = px.histogram(\n",
    "            fatalities_samples, \n",
    "            nbins=50, \n",
    "            labels={'value': 'Expected fatalities'}, \n",
    "            title=\"Distribution of Expected Fatalities\", \n",
    "            color_discrete_sequence=[COLORS[\"accidental\"]],\n",
    "            histnorm='probability'\n",
    "        )\n",
    "        fig.show()\n",
    "\n",
    "# Update the update_plots function\n",
    "def update_plots(P_release, P_seeds_pandemic_min, P_seeds_pandemic_max, num_simulations, population, infection_rate, fatality_rate, num_facilities, num_years):\n",
    "    # Compute the accidental risks\n",
    "    P_seeds_pandemic_samples, P_single_pandemic_samples, pandemics_per_year_samples, fatalities_samples = compute_accidental(\n",
    "        P_release, P_seeds_pandemic_min, P_seeds_pandemic_max, num_simulations, population, infection_rate, fatality_rate, num_facilities, num_years)\n",
    "    \n",
    "    # Plot the results\n",
    "    plot_P_single_pandemic(P_single_pandemic_samples)\n",
    "    plot_P_any_facility(pandemics_per_year_samples)\n",
    "    plot_expected_fatalities(fatalities_samples)\n",
    "\n",
    "output = interactive_output(\n",
    "    update_plots, \n",
    "    {\n",
    "        'P_release': P_release_widget,\n",
    "        'P_seeds_pandemic_min': P_seeds_pandemic_min_widget,\n",
    "        'P_seeds_pandemic_max': P_seeds_pandemic_max_widget,\n",
    "        'num_simulations': num_simulations_widget,\n",
    "        'population': population_widget,\n",
    "        'infection_rate': infection_rate_widget,\n",
    "        'fatality_rate': fatality_rate_widget,\n",
    "        'num_facilities': num_facilities_widget,\n",
    "        'num_years': num_years_widget\n",
    "    }\n",
    ")"
   ]
  },
  {
   "cell_type": "markdown",
   "metadata": {},
   "source": [
    "### 1.1 Probability a Single Facility in a Single Year Seeds a Pandemic\n",
    "\n",
    "The probability that a single facility seeds a pandemic in a single year is given by:\n",
    "\n",
    "$\n",
    "P_{\\text{single_pandemic}} = P_{\\text{release}} \\times P_{\\text{seeds_pandemic}}\n",
    "$\n",
    "\n",
    "Where:\n",
    "- $P_{\\text{release}}$ is the probability of community release from a single facility in a single year.\n",
    "- $P_{\\text{seeds_pandemic}}$ is the probability that a virus release seeds a pandemic. Since $P_{\\text{seeds_pandemic}}$ is given as a range, we will sample from a uniform distribution between 0.05 and 0.4."
   ]
  },
  {
   "cell_type": "code",
   "execution_count": 5,
   "metadata": {},
   "outputs": [
    {
     "data": {
      "application/vnd.jupyter.widget-view+json": {
       "model_id": "397f3949220148459e6b6831c54f500b",
       "version_major": 2,
       "version_minor": 0
      },
      "text/plain": [
       "Output(outputs=({'output_type': 'display_data', 'data': {'text/html': '        <script type=\"text/javascript\">…"
      ]
     },
     "metadata": {},
     "output_type": "display_data"
    }
   ],
   "source": [
    "display(output_P_single_pandemic)"
   ]
  },
  {
   "cell_type": "markdown",
   "metadata": {},
   "source": [
    "### 1.2. Expected number of Pandemics\n",
    "\n",
    "The expected number of pandemics seeded by any facility in a $num\\_years$ is given by:\n",
    "\n",
    "$\n",
    "E[\\text{Number of Pandemics}] = P_{\\text{single_pandemic}} \\times \\text{num_years} \\times \\text{num_facilities}\n",
    "$\n",
    "\n",
    "Where:\n",
    "- $\\text{num_years}$ is the number of years in the simulation (typically set to 100 for a century).\n",
    "- $\\text{num_facilities}$ is the number of facilities in the world.\n",
    "- $P_{\\text{single_pandemic}}$ is the probability that a single facility seeds a pandemic in a single year."
   ]
  },
  {
   "cell_type": "code",
   "execution_count": 6,
   "metadata": {},
   "outputs": [
    {
     "data": {
      "application/vnd.jupyter.widget-view+json": {
       "model_id": "e46609f5978a45b48d9ce7f49a6afcd5",
       "version_major": 2,
       "version_minor": 0
      },
      "text/plain": [
       "Output(outputs=({'output_type': 'display_data', 'data': {'application/vnd.plotly.v1+json': {'config': {'plotly…"
      ]
     },
     "metadata": {},
     "output_type": "display_data"
    }
   ],
   "source": [
    "display(output_P_any_facility)"
   ]
  },
  {
   "cell_type": "markdown",
   "metadata": {},
   "source": [
    "### 1.3. Worldwide Fatalities from the Pandemic\n",
    "\n",
    "For each pandemic, the number of fatalities is calculated as:\n",
    "\n",
    "$\n",
    "\\text{Fatalities} = E[\\text{Number of Pandemics}] \\times \\text{Population} \\times \\text{Infection Rate} \\times \\text{Case Fatality Rate}\n",
    "$\n",
    "\n",
    "Where:\n",
    "- $\\text{Population}$ is the world population at the time of the pandemic.\n",
    "- $\\text{Infection Rate}$ is the infection rate of the pandemic.\n",
    "- $\\text{Case Fatality Rate}$ is the case fatality rate of the pandemic."
   ]
  },
  {
   "cell_type": "code",
   "execution_count": 7,
   "metadata": {},
   "outputs": [
    {
     "data": {
      "application/vnd.jupyter.widget-view+json": {
       "model_id": "c16f2065302641a2a0ed0501d8a9d884",
       "version_major": 2,
       "version_minor": 0
      },
      "text/plain": [
       "Output(outputs=({'output_type': 'display_data', 'data': {'application/vnd.plotly.v1+json': {'config': {'plotly…"
      ]
     },
     "metadata": {},
     "output_type": "display_data"
    }
   ],
   "source": [
    "display(output_expected_fatalities)"
   ]
  },
  {
   "cell_type": "code",
   "execution_count": null,
   "metadata": {},
   "outputs": [],
   "source": []
  }
 ],
 "metadata": {
  "kernelspec": {
   "display_name": "Python 3",
   "language": "python",
   "name": "python3"
  },
  "language_info": {
   "codemirror_mode": {
    "name": "ipython",
    "version": 3
   },
   "file_extension": ".py",
   "mimetype": "text/x-python",
   "name": "python",
   "nbconvert_exporter": "python",
   "pygments_lexer": "ipython3",
   "version": "3.7.6"
  },
  "vscode": {
   "interpreter": {
    "hash": "4955dedc2d00847a5d8ce35d0b08f51a09c63081b880cfd982b13da27f1123ca"
   }
  }
 },
 "nbformat": 4,
 "nbformat_minor": 2
}
